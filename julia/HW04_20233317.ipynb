{
 "cells": [
  {
   "cell_type": "markdown",
   "metadata": {},
   "source": [
    "### Problem 1. (c)"
   ]
  },
  {
   "cell_type": "code",
   "execution_count": 1,
   "metadata": {},
   "outputs": [],
   "source": [
    "using JuMP\n",
    "using Graphs #, SimpleWeightedGraphs\n",
    "#using LightGraphs\n",
    "#using DataStructures\n",
    "using Optim #, LineSearches\n",
    "using DataFrames"
   ]
  },
  {
   "cell_type": "code",
   "execution_count": 2,
   "metadata": {},
   "outputs": [
    {
     "data": {
      "text/plain": [
       "FindSPP (generic function with 1 method)"
      ]
     },
     "metadata": {},
     "output_type": "display_data"
    }
   ],
   "source": [
    "function FindSPP(dest, dijkalgorithm)\n",
    "    # Shortest path of OD pair\n",
    "    p = []\n",
    "    push!(p, dest)\n",
    "    dest = dijkalgorithm.parents[dest]\n",
    "    while dest != 0 \n",
    "        push!(p, dest)\n",
    "        dest = dijkalgorithm.parents[dest]\n",
    "    end\n",
    "    return reverse(p)\n",
    "end"
   ]
  },
  {
   "cell_type": "code",
   "execution_count": 13,
   "metadata": {},
   "outputs": [
    {
     "data": {
      "text/plain": [
       "SPP (generic function with 2 methods)"
      ]
     },
     "metadata": {},
     "output_type": "display_data"
    }
   ],
   "source": [
    "function SPP(A,B,K,v_bar, graph, distmatrix, origin)\n",
    "    c = B ./ (K - v_bar); replace!(c, NaN => 0); c = A + c\n",
    "    \n",
    "    #Dijkstra algorithm\n",
    "    dijk = dijkstra_shortest_paths(graph, o, distmatrix)\n",
    "\n",
    "    # Shortest path of OD pair\n",
    "    path = [FindSPP(3, dijk), FindSPP(4, dijk)]\n",
    "    return path\n",
    "end"
   ]
  },
  {
   "cell_type": "code",
   "execution_count": 5,
   "metadata": {},
   "outputs": [
    {
     "data": {
      "text/plain": [
       "J (generic function with 1 method)"
      ]
     },
     "metadata": {},
     "output_type": "display_data"
    }
   ],
   "source": [
    "function J(h_bar, d_bar, θ)\n",
    "    h_temp = h_bar + θ*d_bar\n",
    "    v_temp = [h_temp[1] + h_temp[2] + h_temp[3],\n",
    "              h_temp[1],\n",
    "              h_temp[2] + h_temp[3],\n",
    "              h_temp[2]]\n",
    "    J = A[1] * (v_temp[1]) + A[2] * (v_temp[2]) + (B[2] / (K[2] - v_temp[2])) * (v_temp[2]) + A[3] * (v_temp[3]) + (B[3] / (K[3] - v_temp[3])) * (v_temp[3]) + A[4] * (v_temp[4]) + (B[4] / (K[4] - v_temp[4] )) * (v_temp[4])\n",
    "    return J\n",
    "  end"
   ]
  },
  {
   "cell_type": "code",
   "execution_count": 6,
   "metadata": {},
   "outputs": [
    {
     "data": {
      "text/plain": [
       "4-element Vector{Float64}:\n",
       "  10.0\n",
       "  11.0\n",
       "  Inf\n",
       " 101.25"
      ]
     },
     "metadata": {},
     "output_type": "display_data"
    }
   ],
   "source": [
    "# Input\n",
    "path = [[1,2,3], [1,2,4,3], [1,2,4]]\n",
    "\n",
    "start_node = [1,2,2,4]\n",
    "end_node = [2,3,4,3]\n",
    "\n",
    "# initial feasible solution\n",
    "Q = [60, 40]\n",
    "\n",
    "A = [10, 10, 100, 100]\n",
    "B = [0, 50, 50, 50]\n",
    "K = [100, 50, 100, 100]\n",
    "\n",
    "h_bar = [0, 60, 40] # initial h\n",
    "#h_bar = [30, 30, 40.0]\n",
    "v_bar= [h_bar[1] + h_bar[2] + h_bar[3],\n",
    "        h_bar[1],\n",
    "        h_bar[2] + h_bar[3],\n",
    "        h_bar[2]]\n",
    "\n",
    "c = B ./ (K - v_bar); replace!(c, NaN => 0); c = A + c"
   ]
  },
  {
   "cell_type": "code",
   "execution_count": 11,
   "metadata": {},
   "outputs": [],
   "source": [
    "# o,d-pairs\n",
    "o = 1; d = [3, 4]\n",
    "\n",
    "# Construct Graph g\n",
    "no_node = max( maximum(start_node), maximum(end_node) )\n",
    "no_link = length(start_node)\n",
    "\n",
    "g = SimpleDiGraph(no_node)\n",
    "distmx = Inf*ones(no_node, no_node)\n",
    "\n",
    "for i in 1:no_link\n",
    "    add_edge!(g, start_node[i], end_node[i])\n",
    "    distmx[start_node[i], end_node[i]] = c[i]\n",
    "end"
   ]
  },
  {
   "cell_type": "code",
   "execution_count": 14,
   "metadata": {},
   "outputs": [
    {
     "data": {
      "text/html": [
       "<div><div style = \"float: left;\"><span>3×5 DataFrame</span></div><div style = \"clear: both;\"></div></div><div class = \"data-frame\" style = \"overflow-x: scroll;\"><table class = \"data-frame\" style = \"margin-bottom: 6px;\"><thead><tr class = \"header\"><th class = \"rowNumber\" style = \"font-weight: bold; text-align: right;\">Row</th><th style = \"text-align: left;\">k</th><th style = \"text-align: left;\">h</th><th style = \"text-align: left;\">v</th><th style = \"text-align: left;\">d</th><th style = \"text-align: left;\">θ</th></tr><tr class = \"subheader headerLastRow\"><th class = \"rowNumber\" style = \"font-weight: bold; text-align: right;\"></th><th title = \"Int64\" style = \"text-align: left;\">Int64</th><th title = \"Any\" style = \"text-align: left;\">Any</th><th title = \"Any\" style = \"text-align: left;\">Any</th><th title = \"Any\" style = \"text-align: left;\">Any</th><th title = \"Any\" style = \"text-align: left;\">Any</th></tr></thead><tbody><tr><td class = \"rowNumber\" style = \"font-weight: bold; text-align: right;\">1</td><td style = \"text-align: right;\">1</td><td style = \"text-align: left;\">[49.98, 10.02, 40.0]</td><td style = \"text-align: left;\">[100.0, 49.98, 50.02, 10.02]</td><td style = \"text-align: left;\">[60, -60, 0]</td><td style = \"text-align: left;\">0.833</td></tr><tr><td class = \"rowNumber\" style = \"font-weight: bold; text-align: right;\">2</td><td style = \"text-align: right;\">2</td><td style = \"text-align: left;\">[60.0, 0.0, 40.0]</td><td style = \"text-align: left;\">[100.0, 60.0, 40.0, 0.0]</td><td style = \"text-align: left;\">[10.02, -10.02, 0.0]</td><td style = \"text-align: left;\">1.0</td></tr><tr><td class = \"rowNumber\" style = \"font-weight: bold; text-align: right;\">3</td><td style = \"text-align: right;\">3</td><td style = \"text-align: left;\">[60.0, 0.0, 40.0]</td><td style = \"text-align: left;\">[100.0, 60.0, 40.0, 0.0]</td><td style = \"text-align: left;\">[0.0, 0.0, 0.0]</td><td style = \"text-align: left;\">0.382</td></tr></tbody></table></div>"
      ],
      "text/latex": [
       "\\begin{tabular}{r|ccccc}\n",
       "\t& k & h & v & d & \\\\\n",
       "\t\\hline\n",
       "\t& Int64 & Any & Any & Any & \\\\\n",
       "\t\\hline\n",
       "\t1 & 1 & [49.98, 10.02, 40.0] & [100.0, 49.98, 50.02, 10.02] & [60, -60, 0] & $\\dots$ \\\\\n",
       "\t2 & 2 & [60.0, 0.0, 40.0] & [100.0, 60.0, 40.0, 0.0] & [10.02, -10.02, 0.0] & $\\dots$ \\\\\n",
       "\t3 & 3 & [60.0, 0.0, 40.0] & [100.0, 60.0, 40.0, 0.0] & [0.0, 0.0, 0.0] & $\\dots$ \\\\\n",
       "\\end{tabular}\n"
      ],
      "text/plain": [
       "\u001b[1m3×5 DataFrame\u001b[0m\n",
       "\u001b[1m Row \u001b[0m│\u001b[1m k     \u001b[0m\u001b[1m h                    \u001b[0m\u001b[1m v                            \u001b[0m\u001b[1m d           \u001b[0m ⋯\n",
       "     │\u001b[90m Int64 \u001b[0m\u001b[90m Any                  \u001b[0m\u001b[90m Any                          \u001b[0m\u001b[90m Any         \u001b[0m ⋯\n",
       "─────┼──────────────────────────────────────────────────────────────────────────\n",
       "   1 │     1  [49.98, 10.02, 40.0]  [100.0, 49.98, 50.02, 10.02]  [60, -60, 0] ⋯\n",
       "   2 │     2  [60.0, 0.0, 40.0]     [100.0, 60.0, 40.0, 0.0]      [10.02, -10.\n",
       "   3 │     3  [60.0, 0.0, 40.0]     [100.0, 60.0, 40.0, 0.0]      [0.0, 0.0, 0\n",
       "\u001b[36m                                                               2 columns omitted\u001b[0m"
      ]
     },
     "metadata": {},
     "output_type": "display_data"
    }
   ],
   "source": [
    "res_h = []; res_v = []; res_θ = []; res_d = []\n",
    "θ_opt = 0\n",
    "\n",
    "# Initialization \n",
    "k = 0\n",
    "while k <= 10\n",
    "    # All or nothing assignment\n",
    "    p = SPP(A,B,K,v_bar, g, distmx, o) #\n",
    "\n",
    "    h_new = [0,0,0]\n",
    "    for i in 1:length(h_new)\n",
    "        for j in 1:length(p)\n",
    "            if path[i] == p[j]\n",
    "                h_new[i] = Q[j]\n",
    "            end\n",
    "        end\n",
    "    end\n",
    "    # Line search\n",
    "    d_bar = h_new - h_bar # Determine the direction vector\n",
    "\n",
    "    opt = Optim.optimize( θ -> J(h_bar, d_bar, θ), 0.0, 1.0, GoldenSection()) #\n",
    "    if θ_opt == round(Optim.minimizer(opt); digits=3)\n",
    "        break\n",
    "    end\n",
    "    θ_opt = round(Optim.minimizer(opt); digits=3)\n",
    "\n",
    "    # Update\n",
    "    h_bar = h_bar + θ_opt * d_bar\n",
    "    v_bar= [h_bar[1] + h_bar[2] + h_bar[3],\n",
    "            h_bar[1],\n",
    "            h_bar[2] + h_bar[3],\n",
    "            h_bar[2]]\n",
    "\n",
    "    push!(res_d, d_bar)\n",
    "    push!(res_θ, θ_opt)\n",
    "    push!(res_h, h_bar)\n",
    "    push!(res_v, v_bar)\n",
    "    k = k + 1\n",
    "end\n",
    "\n",
    "df = DataFrame(;k = 1:k, h = res_h, v = res_v, d = res_d, θ = res_θ)"
   ]
  },
  {
   "cell_type": "code",
   "execution_count": 15,
   "metadata": {},
   "outputs": [
    {
     "data": {
      "text/html": [
       "<div><div style = \"float: left;\"><span>3×5 DataFrame</span></div><div style = \"clear: both;\"></div></div><div class = \"data-frame\" style = \"overflow-x: scroll;\"><table class = \"data-frame\" style = \"margin-bottom: 6px;\"><thead><tr class = \"header\"><th class = \"rowNumber\" style = \"font-weight: bold; text-align: right;\">Row</th><th style = \"text-align: left;\">k</th><th style = \"text-align: left;\">h</th><th style = \"text-align: left;\">v</th><th style = \"text-align: left;\">d</th><th style = \"text-align: left;\">θ</th></tr><tr class = \"subheader headerLastRow\"><th class = \"rowNumber\" style = \"font-weight: bold; text-align: right;\"></th><th title = \"Int64\" style = \"text-align: left;\">Int64</th><th title = \"Any\" style = \"text-align: left;\">Any</th><th title = \"Any\" style = \"text-align: left;\">Any</th><th title = \"Any\" style = \"text-align: left;\">Any</th><th title = \"Any\" style = \"text-align: left;\">Any</th></tr></thead><tbody><tr><td class = \"rowNumber\" style = \"font-weight: bold; text-align: right;\">1</td><td style = \"text-align: right;\">1</td><td style = \"text-align: left;\">[49.98, 10.02, 40.0]</td><td style = \"text-align: left;\">[100.0, 49.98, 50.02, 10.02]</td><td style = \"text-align: left;\">[60, -60, 0]</td><td style = \"text-align: left;\">0.833</td></tr><tr><td class = \"rowNumber\" style = \"font-weight: bold; text-align: right;\">2</td><td style = \"text-align: right;\">2</td><td style = \"text-align: left;\">[60.0, 0.0, 40.0]</td><td style = \"text-align: left;\">[100.0, 60.0, 40.0, 0.0]</td><td style = \"text-align: left;\">[10.02, -10.02, 0.0]</td><td style = \"text-align: left;\">1.0</td></tr><tr><td class = \"rowNumber\" style = \"font-weight: bold; text-align: right;\">3</td><td style = \"text-align: right;\">3</td><td style = \"text-align: left;\">[60.0, 0.0, 40.0]</td><td style = \"text-align: left;\">[100.0, 60.0, 40.0, 0.0]</td><td style = \"text-align: left;\">[0.0, 0.0, 0.0]</td><td style = \"text-align: left;\">0.382</td></tr></tbody></table></div>"
      ],
      "text/latex": [
       "\\begin{tabular}{r|ccccc}\n",
       "\t& k & h & v & d & \\\\\n",
       "\t\\hline\n",
       "\t& Int64 & Any & Any & Any & \\\\\n",
       "\t\\hline\n",
       "\t1 & 1 & [49.98, 10.02, 40.0] & [100.0, 49.98, 50.02, 10.02] & [60, -60, 0] & $\\dots$ \\\\\n",
       "\t2 & 2 & [60.0, 0.0, 40.0] & [100.0, 60.0, 40.0, 0.0] & [10.02, -10.02, 0.0] & $\\dots$ \\\\\n",
       "\t3 & 3 & [60.0, 0.0, 40.0] & [100.0, 60.0, 40.0, 0.0] & [0.0, 0.0, 0.0] & $\\dots$ \\\\\n",
       "\\end{tabular}\n"
      ],
      "text/plain": [
       "\u001b[1m3×5 DataFrame\u001b[0m\n",
       "\u001b[1m Row \u001b[0m│\u001b[1m k     \u001b[0m\u001b[1m h                    \u001b[0m\u001b[1m v                            \u001b[0m\u001b[1m d           \u001b[0m ⋯\n",
       "     │\u001b[90m Int64 \u001b[0m\u001b[90m Any                  \u001b[0m\u001b[90m Any                          \u001b[0m\u001b[90m Any         \u001b[0m ⋯\n",
       "─────┼──────────────────────────────────────────────────────────────────────────\n",
       "   1 │     1  [49.98, 10.02, 40.0]  [100.0, 49.98, 50.02, 10.02]  [60, -60, 0] ⋯\n",
       "   2 │     2  [60.0, 0.0, 40.0]     [100.0, 60.0, 40.0, 0.0]      [10.02, -10.\n",
       "   3 │     3  [60.0, 0.0, 40.0]     [100.0, 60.0, 40.0, 0.0]      [0.0, 0.0, 0\n",
       "\u001b[36m                                                               2 columns omitted\u001b[0m"
      ]
     },
     "metadata": {},
     "output_type": "display_data"
    }
   ],
   "source": []
  }
 ],
 "metadata": {
  "kernelspec": {
   "display_name": "Julia 1.9.3",
   "language": "julia",
   "name": "julia-1.9"
  },
  "language_info": {
   "file_extension": ".jl",
   "mimetype": "application/julia",
   "name": "julia",
   "version": "1.9.3"
  }
 },
 "nbformat": 4,
 "nbformat_minor": 4
}
