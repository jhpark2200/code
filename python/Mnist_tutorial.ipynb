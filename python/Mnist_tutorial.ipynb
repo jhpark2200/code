{
  "nbformat": 4,
  "nbformat_minor": 0,
  "metadata": {
    "colab": {
      "provenance": []
    },
    "kernelspec": {
      "name": "python3",
      "display_name": "Python 3"
    },
    "language_info": {
      "name": "python"
    },
    "accelerator": "GPU"
  },
  "cells": [
    {
      "cell_type": "code",
      "execution_count": null,
      "metadata": {
        "id": "KmVzVCEjjGIO"
      },
      "outputs": [],
      "source": [
        "import tensorflow as tf\n",
        "from tensorflow.keras.datasets import mnist\n",
        "from tensorflow.keras.models import Sequential\n",
        "from tensorflow.keras.layers import Dense, Activation,Flatten"
      ]
    },
    {
      "cell_type": "code",
      "source": [],
      "metadata": {
        "id": "0Xc3yopok5mb"
      },
      "execution_count": null,
      "outputs": []
    },
    {
      "cell_type": "code",
      "source": [
        "(x_train, y_train), (x_test, y_test) = tf.keras.datasets.mnist.load_data()\n"
      ],
      "metadata": {
        "id": "0b4rBz5ZjICs",
        "colab": {
          "base_uri": "https://localhost:8080/"
        },
        "outputId": "8120f6f8-6c01-45bf-b33f-49def86275e0"
      },
      "execution_count": null,
      "outputs": [
        {
          "output_type": "stream",
          "name": "stdout",
          "text": [
            "Downloading data from https://storage.googleapis.com/tensorflow/tf-keras-datasets/mnist.npz\n",
            "11493376/11490434 [==============================] - 0s 0us/step\n",
            "11501568/11490434 [==============================] - 0s 0us/step\n"
          ]
        }
      ]
    },
    {
      "cell_type": "code",
      "source": [
        "print(x_train.shape, ': train set dim')\n",
        "print(x_test.shape, ': test set dim')"
      ],
      "metadata": {
        "colab": {
          "base_uri": "https://localhost:8080/"
        },
        "id": "-274lKLPjIEz",
        "outputId": "a3ee0b1e-87fa-4570-de22-9184e068b2a9"
      },
      "execution_count": null,
      "outputs": [
        {
          "output_type": "stream",
          "name": "stdout",
          "text": [
            "(60000, 28, 28) : train set dim\n",
            "(10000, 28, 28) : test set dim\n"
          ]
        }
      ]
    },
    {
      "cell_type": "code",
      "source": [
        "from google.colab.patches import cv2_imshow\n",
        "import cv2\n",
        "\n",
        "\n",
        "for i in range(10):\n",
        "  cv2_imshow(x_test[i])"
      ],
      "metadata": {
        "colab": {
          "base_uri": "https://localhost:8080/",
          "height": 297
        },
        "id": "L70O2FGeCGKY",
        "outputId": "da23304b-1d65-401b-efd9-d4a537e91015"
      },
      "execution_count": null,
      "outputs": [
        {
          "output_type": "display_data",
          "data": {
            "text/plain": [
              "<PIL.Image.Image image mode=L size=28x28 at 0x7F6E0A63EE10>"
            ],
            "image/png": "[encoded data removed]"
          },
          "metadata": {}
        },
        {
          "output_type": "display_data",
          "data": {
            "text/plain": [
              "<PIL.Image.Image image mode=L size=28x28 at 0x7F6E0A629610>"
            ],
            "image/png": "[encoded data removed]"
          },
          "metadata": {}
        },
        {
          "output_type": "display_data",
          "data": {
            "text/plain": [
              "<PIL.Image.Image image mode=L size=28x28 at 0x7F6E0A63E550>"
            ],
            "image/png": "[encoded data removed]"
          },
          "metadata": {}
        },
        {
          "output_type": "display_data",
          "data": {
            "text/plain": [
              "<PIL.Image.Image image mode=L size=28x28 at 0x7F6E0A63E6D0>"
            ],
            "image/png": "[encoded data removed]"
          },
          "metadata": {}
        },
        {
          "output_type": "display_data",
          "data": {
            "text/plain": [
              "<PIL.Image.Image image mode=L size=28x28 at 0x7F6E00F5A390>"
            ],
            "image/png": "[encoded data removed]"
          },
          "metadata": {}
        },
        {
          "output_type": "display_data",
          "data": {
            "text/plain": [
              "<PIL.Image.Image image mode=L size=28x28 at 0x7F6E0A63E6D0>"
            ],
            "image/png": "[encoded data removed]"
          },
          "metadata": {}
        },
        {
          "output_type": "display_data",
          "data": {
            "text/plain": [
              "<PIL.Image.Image image mode=L size=28x28 at 0x7F6E0A629610>"
            ],
            "image/png": "[encoded data removed]"
          },
          "metadata": {}
        },
        {
          "output_type": "display_data",
          "data": {
            "text/plain": [
              "<PIL.Image.Image image mode=L size=28x28 at 0x7F6E00F64E90>"
            ],
            "image/png": "[encoded data removed]"
          },
          "metadata": {}
        },
        {
          "output_type": "display_data",
          "data": {
            "text/plain": [
              "<PIL.Image.Image image mode=L size=28x28 at 0x7F6E12094F90>"
            ],
            "image/png": "[encoded data removed]"
          },
          "metadata": {}
        },
        {
          "output_type": "display_data",
          "data": {
            "text/plain": [
              "<PIL.Image.Image image mode=L size=28x28 at 0x7F6E1298A110>"
            ],
            "image/png": "[encoded data removed]"
          },
          "metadata": {}
        }
      ]
    },
    {
      "cell_type": "markdown",
      "source": [
        "Model"
      ],
      "metadata": {
        "id": "LvqC4pG6lKu2"
      }
    },
    {
      "cell_type": "code",
      "source": [
        "model = Sequential(name = 'MNIST_MLP')\n",
        "model.add(Flatten(input_shape=(28,28))) #입력층\n",
        "model.add(Dense(units=128, activation='relu', name = 'Dense_2'))#hidden layer\n",
        "model.add(Dense(units=64, activation='relu', name = 'Dense_4'))#hidden layer\n",
        "\n",
        "model.add(Dense(units=10, activation='softmax', name = 'Dense_3')) # 출력층\n",
        "model.summary()\n"
      ],
      "metadata": {
        "colab": {
          "base_uri": "https://localhost:8080/"
        },
        "id": "X8FHLJPtzfR0",
        "outputId": "7697ed27-44ad-4022-9d81-af3a8b562e4b"
      },
      "execution_count": null,
      "outputs": [
        {
          "output_type": "stream",
          "name": "stdout",
          "text": [
            "Model: \"MNIST_MLP\"\n",
            "_________________________________________________________________\n",
            " Layer (type)                Output Shape              Param #   \n",
            "=================================================================\n",
            " flatten_2 (Flatten)         (None, 784)               0         \n",
            "                                                                 \n",
            " Dense_2 (Dense)             (None, 128)               100480    \n",
            "                                                                 \n",
            " Dense_4 (Dense)             (None, 64)                8256      \n",
            "                                                                 \n",
            " Dense_3 (Dense)             (None, 10)                650       \n",
            "                                                                 \n",
            "=================================================================\n",
            "Total params: 109,386\n",
            "Trainable params: 109,386\n",
            "Non-trainable params: 0\n",
            "_________________________________________________________________\n"
          ]
        }
      ]
    },
    {
      "cell_type": "code",
      "source": [
        "#MLP 작업중\n",
        "model = tf.keras.models.Sequential([\n",
        "      tf.keras.layers.Flatten(input_shape=(28,28)),\n",
        "      tf.keras.layers.Dense(128, activation='relu'),\n",
        "      tf.keras.layers.Dense(10, activation='softmax')\n",
        "])"
      ],
      "metadata": {
        "id": "B__ZUQFtjIJJ"
      },
      "execution_count": null,
      "outputs": []
    },
    {
      "cell_type": "code",
      "source": [
        "model.summary()"
      ],
      "metadata": {
        "colab": {
          "base_uri": "https://localhost:8080/"
        },
        "id": "HnJR2XGOCSaa",
        "outputId": "9cb70f33-32c5-45e5-c80d-977938d4b40e"
      },
      "execution_count": null,
      "outputs": [
        {
          "output_type": "stream",
          "name": "stdout",
          "text": [
            "Model: \"sequential\"\n",
            "_________________________________________________________________\n",
            " Layer (type)                Output Shape              Param #   \n",
            "=================================================================\n",
            " flatten_1 (Flatten)         (None, 784)               0         \n",
            "                                                                 \n",
            " dense (Dense)               (None, 128)               100480    \n",
            "                                                                 \n",
            " dense_1 (Dense)             (None, 10)                1290      \n",
            "                                                                 \n",
            "=================================================================\n",
            "Total params: 101,770\n",
            "Trainable params: 101,770\n",
            "Non-trainable params: 0\n",
            "_________________________________________________________________\n"
          ]
        }
      ]
    },
    {
      "cell_type": "markdown",
      "source": [
        "Optimizer & compile"
      ],
      "metadata": {
        "id": "lHDXYvUxlO2g"
      }
    },
    {
      "cell_type": "code",
      "source": [
        "# SGD.RMSprop.Adagrad.Adadelta.Adam.Adamax.Nadam.\n",
        "# categorical_crossentropy , sparse_categorical_crossentropy, binary_crossentropy , mean_squared_error, mean_absolute_error\n",
        "# acc, mae ,accuracy, metrics.mae, metrics.categorical_accuracy\n",
        "model.compile(optimizer='Adam',\n",
        "              loss='sparse_categorical_crossentropy',\n",
        "              metrics=['accuracy'])\n",
        "\n"
      ],
      "metadata": {
        "id": "GFmmFkBojILK"
      },
      "execution_count": null,
      "outputs": []
    },
    {
      "cell_type": "code",
      "source": [],
      "metadata": {
        "id": "FtpxIFfalOY4"
      },
      "execution_count": null,
      "outputs": []
    },
    {
      "cell_type": "markdown",
      "source": [
        "Model Running\n",
        "\n"
      ],
      "metadata": {
        "id": "Z_JcfMq_0vMU"
      }
    },
    {
      "cell_type": "code",
      "source": [
        "# X_train,Y_train,epochs=100,batch_size=10, validation_data=(X_val,Y_valf)\n",
        "model.fit(x_train, y_train,  # Training Dataset\n",
        "          epochs=20, # Epochs : Training 반복 수\n",
        "          batch_size= 16, # Mini-batch 크기 설정 8, 16, 32,\n",
        "          verbose= 1 ) # 화면에 정보를 얼마나 출력할지 결정\n"
      ],
      "metadata": {
        "colab": {
          "base_uri": "https://localhost:8080/"
        },
        "id": "Q9rwzgMLjINd",
        "outputId": "42cbd0f9-d858-4f3b-cc75-e48fca8588fd"
      },
      "execution_count": null,
      "outputs": [
        {
          "output_type": "stream",
          "name": "stdout",
          "text": [
            "Epoch 1/20\n",
            "3750/3750 [==============================] - 10s 2ms/step - loss: 2.2140 - accuracy: 0.8604\n",
            "Epoch 2/20\n",
            "3750/3750 [==============================] - 8s 2ms/step - loss: 0.3877 - accuracy: 0.9072\n",
            "Epoch 3/20\n",
            "3750/3750 [==============================] - 7s 2ms/step - loss: 0.3324 - accuracy: 0.9194\n",
            "Epoch 4/20\n",
            "3750/3750 [==============================] - 7s 2ms/step - loss: 0.2954 - accuracy: 0.9285\n",
            "Epoch 5/20\n",
            "3750/3750 [==============================] - 7s 2ms/step - loss: 0.2815 - accuracy: 0.9326\n",
            "Epoch 6/20\n",
            "3750/3750 [==============================] - 8s 2ms/step - loss: 0.2761 - accuracy: 0.9369\n",
            "Epoch 7/20\n",
            "3750/3750 [==============================] - 8s 2ms/step - loss: 0.2556 - accuracy: 0.9417\n",
            "Epoch 8/20\n",
            "3750/3750 [==============================] - 7s 2ms/step - loss: 0.2613 - accuracy: 0.9418\n",
            "Epoch 9/20\n",
            "3750/3750 [==============================] - 7s 2ms/step - loss: 0.2516 - accuracy: 0.9445\n",
            "Epoch 10/20\n",
            "3750/3750 [==============================] - 8s 2ms/step - loss: 0.2492 - accuracy: 0.9435\n",
            "Epoch 11/20\n",
            "3750/3750 [==============================] - 7s 2ms/step - loss: 0.2421 - accuracy: 0.9459\n",
            "Epoch 12/20\n",
            "3750/3750 [==============================] - 7s 2ms/step - loss: 0.2501 - accuracy: 0.9463\n",
            "Epoch 13/20\n",
            "3750/3750 [==============================] - 7s 2ms/step - loss: 0.2416 - accuracy: 0.9475\n",
            "Epoch 14/20\n",
            "3750/3750 [==============================] - 7s 2ms/step - loss: 0.2368 - accuracy: 0.9488\n",
            "Epoch 15/20\n",
            "3750/3750 [==============================] - 7s 2ms/step - loss: 0.2367 - accuracy: 0.9489\n",
            "Epoch 16/20\n",
            "3750/3750 [==============================] - 8s 2ms/step - loss: 0.2329 - accuracy: 0.9497\n",
            "Epoch 17/20\n",
            "3750/3750 [==============================] - 8s 2ms/step - loss: 0.2253 - accuracy: 0.9514\n",
            "Epoch 18/20\n",
            "3750/3750 [==============================] - 7s 2ms/step - loss: 0.2241 - accuracy: 0.9517\n",
            "Epoch 19/20\n",
            "3750/3750 [==============================] - 8s 2ms/step - loss: 0.2234 - accuracy: 0.9514\n",
            "Epoch 20/20\n",
            "3750/3750 [==============================] - 8s 2ms/step - loss: 0.2296 - accuracy: 0.9509\n"
          ]
        },
        {
          "output_type": "execute_result",
          "data": {
            "text/plain": [
              "<keras.callbacks.History at 0x7f6df0068a90>"
            ]
          },
          "metadata": {},
          "execution_count": 9
        }
      ]
    },
    {
      "cell_type": "code",
      "source": [
        "loss_and_metrics=model.evaluate(x_test, y_test)\n",
        "print('## evaluation loss and_metrics ##')\n",
        "print(loss_and_metrics)\n",
        "\n",
        "\n",
        "print('Test Set Loss :', loss_and_metrics[0])\n",
        "print('Test Set Accuracy :', loss_and_metrics[1])"
      ],
      "metadata": {
        "colab": {
          "base_uri": "https://localhost:8080/"
        },
        "id": "erT2VICYlnwj",
        "outputId": "5a836c5f-4439-49a9-8716-5938ef380b07"
      },
      "execution_count": null,
      "outputs": [
        {
          "output_type": "stream",
          "name": "stdout",
          "text": [
            "313/313 [==============================] - 1s 2ms/step - loss: 0.4616 - accuracy: 0.9218\n",
            "## evaluation loss and_metrics ##\n",
            "[0.4616391062736511, 0.9218000173568726]\n",
            "Test Set Loss : 0.4616391062736511\n",
            "Test Set Accuracy : 0.9218000173568726\n"
          ]
        }
      ]
    }
  ]
}